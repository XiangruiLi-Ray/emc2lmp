{
 "cells": [
  {
   "cell_type": "code",
   "execution_count": 78,
   "metadata": {},
   "outputs": [
    {
     "name": "stdout",
     "output_type": "stream",
     "text": [
      "3.23.0\n"
     ]
    }
   ],
   "source": [
    "from ase.io import read, write\n",
    "from ase.visualize import view\n",
    "from ase import Atoms\n",
    "from rdkit.Chem import AllChem as Chem\n",
    "import networkx as nx\n",
    "import numpy as np\n",
    "import re\n",
    "import math as m\n",
    "import ase\n",
    "print(ase.__version__)"
   ]
  },
  {
   "cell_type": "code",
   "execution_count": 79,
   "metadata": {},
   "outputs": [],
   "source": [
    "#remove type information e.g 17(28) ..\n",
    "def remove_type(text):\n",
    "    pattern = r'\\(.*?\\)'\n",
    "    result = re.sub(pattern, '', text)\n",
    "    return result\n",
    "\n",
    "#obtain bond list from input data bonds array\n",
    "def Bonds(bond_lib):\n",
    "    bond_list = []\n",
    "    for index in range(len(bond_lib)):\n",
    "        if bond_lib[index] == \"_\":\n",
    "            pass\n",
    "        else:\n",
    "            bonds = bond_lib[index].split(',')\n",
    "            for bond in bonds:\n",
    "                bond_list.append([index, int(remove_type(bond))])\n",
    "    return bond_list\n",
    "\n",
    "#find neighbors for an atom\n",
    "def find_neighbors_index(atom, bond_list):\n",
    "    neighbor_list = []\n",
    "    index = atom.index\n",
    "    for bond in bond_list:\n",
    "        if index in bond:       #found a bond contains atoms[index]\n",
    "            neighbor_list.append([neighbor for neighbor in bond if neighbor != index][0])\n",
    "    return neighbor_list"
   ]
  },
  {
   "cell_type": "code",
   "execution_count": 80,
   "metadata": {},
   "outputs": [],
   "source": [
    "def longest_c_path(graph, label='C'):\n",
    "    # Step 1: Identify nodes labeled as 'C'\n",
    "    c_nodes = [idx for idx, type in graph.nodes(data=True) if type['atom_type'] == label]\n",
    "\n",
    "    # Step 2: Create a subgraph of only nodes labeled 'C'\n",
    "    c_subgraph = graph.subgraph(c_nodes)\n",
    "\n",
    "    # Step 3: Find all simple paths and track the longest one\n",
    "    longest_path = []\n",
    "    for node in c_subgraph.nodes:\n",
    "        for target in c_subgraph.nodes:\n",
    "            if node != target:\n",
    "                try:\n",
    "                    path = nx.shortest_path(c_subgraph, source=node, target=target)\n",
    "                    if len(path) > len(longest_path):\n",
    "                        longest_path = path\n",
    "                except nx.NetworkXNoPath:\n",
    "                    continue\n",
    "\n",
    "    # Step 4: Return the longest path and its start/end node indices\n",
    "    if longest_path:\n",
    "        return longest_path, longest_path[0], longest_path[-1]\n",
    "    else:\n",
    "        return [], None, None"
   ]
  },
  {
   "cell_type": "code",
   "execution_count": 81,
   "metadata": {},
   "outputs": [],
   "source": [
    "def create_graph(atoms):\n",
    "    \"\"\"Create node-edge graph of ase atoms object,\n",
    "    nodes are atoms and edges are bond,\n",
    "    is used to find longest carbon backbone\n",
    "    \"\"\"\n",
    "    \n",
    "    G = nx.Graph()\n",
    "    bond_list = Bonds(atoms.get_array(\"bonds\"))\n",
    "    \n",
    "    # Add nodes with atomic indices\n",
    "    for i in range(len(atoms)):\n",
    "        G.add_node(i, atom_type=atoms.get_chemical_symbols()[i])\n",
    "    \n",
    "    # Add edges based on distance cutoff\n",
    "    for i in range(len(atoms)):\n",
    "        for j in range(i + 1, len(atoms)):\n",
    "            for k in bond_list:\n",
    "                if i in k and j in k:\n",
    "                    G.add_edge(i, j, weight=1)\n",
    "    return G"
   ]
  },
  {
   "cell_type": "code",
   "execution_count": 82,
   "metadata": {},
   "outputs": [],
   "source": [
    "def rotation(vector, matrix):\n",
    "    \"\"\"Rotate the x-axis towards the vector position \n",
    "    and transform matrix accordingly\n",
    "    \"\"\"  \n",
    "  \n",
    "    def Ry(theta):\n",
    "      return np.matrix([[ m.cos(theta), 0, m.sin(theta)],\n",
    "                   [ 0           , 1, 0           ],\n",
    "                   [-m.sin(theta), 0, m.cos(theta)]])\n",
    "  \n",
    "    def Rz(theta):\n",
    "      return np.matrix([[ m.cos(theta), -m.sin(theta), 0 ],\n",
    "                   [ m.sin(theta), m.cos(theta) , 0 ],\n",
    "                   [ 0           , 0            , 1 ]])\n",
    "    vector_xy = [vector[0], vector[1], 0]\n",
    "    vector_xz = [vector[0], 0, vector[2]]\n",
    "    vector_x = [1, 0, 0]\n",
    "    thetaz = np.arccos(np.dot(vector_xy, vector_x)/(np.linalg.norm(vector_xy)*np.linalg.norm(vector_x)))\n",
    "    thetay = np.arccos(np.dot(vector_xy, vector)/(np.linalg.norm(vector_xy)*np.linalg.norm(vector)))\n",
    "    return np.dot(np.dot(matrix, Rz(thetaz)), Ry(thetay))"
   ]
  },
  {
   "cell_type": "code",
   "execution_count": 83,
   "metadata": {},
   "outputs": [],
   "source": [
    "def atoms_to_mol(atoms: Atoms,):\n",
    "    \"\"\"Transform atoms object from ase to Rdkit mol object\n",
    "    \"\"\"\n",
    "    bond_list = Bonds(atoms.get_array(\"bonds\"))\n",
    "    mol = Chem.RWMol()\n",
    "\n",
    "    for z in atoms.get_atomic_numbers():\n",
    "        mol.AddAtom(Chem.Atom(int(z)))\n",
    "\n",
    "    conformer = Chem.Conformer(len(atoms))\n",
    "    for i, pos in enumerate(atoms.positions):\n",
    "        conformer.SetAtomPosition(i, pos)\n",
    "        \n",
    "    for bond in bond_list:\n",
    "        mol.AddBond(bond[0], bond[1])\n",
    "\n",
    "    mol.AddConformer(conformer)\n",
    "    return mol"
   ]
  },
  {
   "cell_type": "code",
   "execution_count": 85,
   "metadata": {},
   "outputs": [
    {
     "name": "stdout",
     "output_type": "stream",
     "text": [
      "Longest Path: 82\n",
      "Start Node Index: 296\n",
      "End Node Index: 300\n"
     ]
    }
   ],
   "source": [
    "atoms = read('./emcpipe/polymer.data', format='lammps-data')\n",
    "bond_list = Bonds(atoms.get_array(\"bonds\"))\n",
    "g = create_graph(atoms)\n",
    "\n",
    "result = longest_c_path(g)\n",
    "print(\"Longest Path:\", len(result[0]))\n",
    "print(\"Start Node Index:\", result[1])\n",
    "print(\"End Node Index:\", result[2])\n",
    "\n",
    "atom_begin = atoms[result[1]]\n",
    "atom_end = atoms[result[2]]\n",
    "vector = atom_end.position - atom_begin.position\n",
    "\n",
    "atoms.positions = (atoms.positions - atom_begin.position)\n",
    "atoms.positions = rotation(vector, atoms.positions)\n",
    "cellx = max(atoms.positions[:,0], key=abs)\n",
    "celly = max(atoms.positions[:,1], key=abs)\n",
    "cellz = max(atoms.positions[:,2], key=abs)\n",
    "atoms.cell = [cellx, celly, cellz]\n",
    "view(atoms)\n",
    "\n",
    "mol = atoms_to_mol(atoms)\n"
   ]
  }
 ],
 "metadata": {
  "kernelspec": {
   "display_name": "base",
   "language": "python",
   "name": "python3"
  },
  "language_info": {
   "codemirror_mode": {
    "name": "ipython",
    "version": 3
   },
   "file_extension": ".py",
   "mimetype": "text/x-python",
   "name": "python",
   "nbconvert_exporter": "python",
   "pygments_lexer": "ipython3",
   "version": "3.11.8"
  }
 },
 "nbformat": 4,
 "nbformat_minor": 2
}
